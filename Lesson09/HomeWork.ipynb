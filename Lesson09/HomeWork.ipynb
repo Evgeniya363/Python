{
  "nbformat": 4,
  "nbformat_minor": 0,
  "metadata": {
    "colab": {
      "provenance": [],
      "authorship_tag": "ABX9TyM5u1p70eB43ww0ej9vs3+3",
      "include_colab_link": true
    },
    "kernelspec": {
      "name": "python3",
      "display_name": "Python 3"
    },
    "language_info": {
      "name": "python"
    }
  },
  "cells": [
    {
      "cell_type": "markdown",
      "metadata": {
        "id": "view-in-github",
        "colab_type": "text"
      },
      "source": [
        "<a href=\"https://colab.research.google.com/github/Evgeniya363/Python/blob/main/Lesson09/HomeWork.ipynb\" target=\"_parent\"><img src=\"https://colab.research.google.com/assets/colab-badge.svg\" alt=\"Open In Colab\"/></a>"
      ]
    },
    {
      "cell_type": "markdown",
      "source": [
        "Задача 40: Работать с файлом california_housing_train.csv, который находится в папке sample_data. Определить среднюю стоимость дома, где кол-во людей от 0 до 500 (population)"
      ],
      "metadata": {
        "id": "5qecNsgL9f3b"
      }
    },
    {
      "cell_type": "code",
      "source": [
        "import pandas as pd"
      ],
      "metadata": {
        "id": "-dfnh4719k0T"
      },
      "execution_count": 2,
      "outputs": []
    },
    {
      "cell_type": "code",
      "source": [
        "df = pd.read_csv('/content/sample_data/california_housing_train.csv')"
      ],
      "metadata": {
        "id": "MHXaqOFH9rJy"
      },
      "execution_count": 3,
      "outputs": []
    },
    {
      "cell_type": "code",
      "source": [
        "df.loc[df['population'] <= 500, 'median_house_value'].mean()"
      ],
      "metadata": {
        "id": "tZldCw62-OOn",
        "outputId": "88be44d9-b823-4d21-f222-01544b00d01d",
        "colab": {
          "base_uri": "https://localhost:8080/"
        }
      },
      "execution_count": 5,
      "outputs": [
        {
          "output_type": "execute_result",
          "data": {
            "text/plain": [
              "206799.95140186916"
            ]
          },
          "metadata": {},
          "execution_count": 5
        }
      ]
    },
    {
      "cell_type": "markdown",
      "source": [
        "Задача 42: Узнать какая максимальная households в зоне минимального значения population"
      ],
      "metadata": {
        "id": "F-9g29ppIhHG"
      }
    },
    {
      "cell_type": "markdown",
      "source": [
        "Приму за зону минимального значения диапазон от 0 до 25% значений 'population', т.е выборку, где значение 'population' не превышает значения медианы 25-го перцентиля. "
      ],
      "metadata": {
        "id": "IdDDeexnWiI8"
      }
    },
    {
      "cell_type": "code",
      "source": [
        "median_25 = df['population'].describe()['25%']"
      ],
      "metadata": {
        "id": "6WuZrPOdIsHv"
      },
      "execution_count": null,
      "outputs": []
    },
    {
      "cell_type": "code",
      "source": [
        "df.loc[df['population'] <= median_25, 'households'].max()"
      ],
      "metadata": {
        "colab": {
          "base_uri": "https://localhost:8080/"
        },
        "id": "U6giDUszTlml",
        "outputId": "f4084cca-937c-4340-908a-4e7fca6e2523"
      },
      "execution_count": null,
      "outputs": [
        {
          "output_type": "execute_result",
          "data": {
            "text/plain": [
              "597.0"
            ]
          },
          "metadata": {},
          "execution_count": 28
        }
      ]
    }
  ]
}