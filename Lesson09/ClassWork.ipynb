{
  "nbformat": 4,
  "nbformat_minor": 0,
  "metadata": {
    "colab": {
      "provenance": [],
      "authorship_tag": "ABX9TyP1kGKjaxQgLe8n6wyxxi0j",
      "include_colab_link": true
    },
    "kernelspec": {
      "name": "python3",
      "display_name": "Python 3"
    },
    "language_info": {
      "name": "python"
    }
  },
  "cells": [
    {
      "cell_type": "markdown",
      "metadata": {
        "id": "view-in-github",
        "colab_type": "text"
      },
      "source": [
        "<a href=\"https://colab.research.google.com/github/Evgeniya363/Python/blob/main/Lesson09/ClassWork.ipynb\" target=\"_parent\"><img src=\"https://colab.research.google.com/assets/colab-badge.svg\" alt=\"Open In Colab\"/></a>"
      ]
    },
    {
      "cell_type": "code",
      "execution_count": 2,
      "metadata": {
        "id": "Cfo6oNp9BFo7"
      },
      "outputs": [],
      "source": [
        "import pandas as pd"
      ]
    },
    {
      "cell_type": "markdown",
      "source": [
        "57.1 Прочесть с помощью pandas файл california_housing_test.csv, который находится в папке\n",
        "sample_data"
      ],
      "metadata": {
        "id": "S4v3B1g4FtMS"
      }
    },
    {
      "cell_type": "code",
      "source": [
        "df = pd.read_csv('/content/sample_data/california_housing_test.csv')"
      ],
      "metadata": {
        "id": "-ILUaBq3Br5Q"
      },
      "execution_count": 3,
      "outputs": []
    },
    {
      "cell_type": "code",
      "source": [
        "df"
      ],
      "metadata": {
        "id": "NqvnWRu0B8dY"
      },
      "execution_count": null,
      "outputs": []
    },
    {
      "cell_type": "code",
      "source": [
        "df.head()"
      ],
      "metadata": {
        "id": "mV9rYqykCMuZ"
      },
      "execution_count": null,
      "outputs": []
    },
    {
      "cell_type": "code",
      "source": [
        "df.head(15)"
      ],
      "metadata": {
        "id": "wZvil4maCYvV"
      },
      "execution_count": null,
      "outputs": []
    },
    {
      "cell_type": "markdown",
      "source": [
        "59.1 Проверить есть ли в файле пустые значения"
      ],
      "metadata": {
        "id": "Q9fiuKfNiMWZ"
      }
    },
    {
      "cell_type": "code",
      "source": [
        "df.isnull().sum()"
      ],
      "metadata": {
        "id": "vrctkEqmCdy5"
      },
      "execution_count": null,
      "outputs": []
    },
    {
      "cell_type": "code",
      "source": [
        "df.columns"
      ],
      "metadata": {
        "id": "iKlqB1jWCm1U"
      },
      "execution_count": null,
      "outputs": []
    },
    {
      "cell_type": "markdown",
      "source": [
        "57.2 Посмотреть сколько в нем строк и столбцов"
      ],
      "metadata": {
        "id": "b4smCMCEF-4P"
      }
    },
    {
      "cell_type": "code",
      "source": [
        "print('Строк: {}, столбцов: {}'.format(df.shape[0], df.shape[1]))"
      ],
      "metadata": {
        "id": "9HSRCHKpGFG0",
        "colab": {
          "base_uri": "https://localhost:8080/"
        },
        "outputId": "d6e39a8f-5661-4bc1-a652-5c9341d915b7"
      },
      "execution_count": null,
      "outputs": [
        {
          "output_type": "stream",
          "name": "stdout",
          "text": [
            "Строк: 3000, столбцов: 9\n"
          ]
        }
      ]
    },
    {
      "cell_type": "markdown",
      "source": [
        "57.3 Определить какой тип данных имеют столбцы"
      ],
      "metadata": {
        "id": "ou735UCBLBIH"
      }
    },
    {
      "cell_type": "code",
      "source": [
        "df.dtypes"
      ],
      "metadata": {
        "id": "_WwIMn9zLEfH"
      },
      "execution_count": null,
      "outputs": []
    },
    {
      "cell_type": "code",
      "source": [
        "total_rooms = df['total_rooms']\n",
        "total_rooms"
      ],
      "metadata": {
        "id": "FjAhbux5CsZ7"
      },
      "execution_count": null,
      "outputs": []
    },
    {
      "cell_type": "code",
      "source": [
        "print(type(df))"
      ],
      "metadata": {
        "id": "c1NosOQgDNBw"
      },
      "execution_count": null,
      "outputs": []
    },
    {
      "cell_type": "code",
      "source": [
        "df[['total_rooms','housing_median_age']]"
      ],
      "metadata": {
        "id": "w3JV75D7DUGo"
      },
      "execution_count": null,
      "outputs": []
    },
    {
      "cell_type": "code",
      "source": [
        "df[(df['housing_median_age'] < 20) & (df['housing_median_age'] > 17)]"
      ],
      "metadata": {
        "id": "B0pQHindD_MT"
      },
      "execution_count": null,
      "outputs": []
    },
    {
      "cell_type": "code",
      "source": [
        "df['population'].sum()"
      ],
      "metadata": {
        "id": "QCnnQIxoElRN"
      },
      "execution_count": null,
      "outputs": []
    },
    {
      "cell_type": "markdown",
      "source": [
        "59.2 Показать median_house_value где median_income < 2"
      ],
      "metadata": {
        "id": "JkYGt4DVxn3B"
      }
    },
    {
      "cell_type": "code",
      "source": [
        "# df.loc[df['median_income'] < 2,'median_house_value']\n",
        "df[df['median_income'] < 2]['median_house_value']"
      ],
      "metadata": {
        "id": "XtUpUgZ8xthS"
      },
      "execution_count": null,
      "outputs": []
    },
    {
      "cell_type": "markdown",
      "source": [
        "59.3 Показать данные в первых 2 столбцах"
      ],
      "metadata": {
        "id": "bbT9Jx8W2YdA"
      }
    },
    {
      "cell_type": "code",
      "source": [
        "df.iloc [:, 0:2]"
      ],
      "metadata": {
        "id": "ho1_uqVI2ZTz"
      },
      "execution_count": null,
      "outputs": []
    },
    {
      "cell_type": "markdown",
      "source": [
        "59.4 Выбрать данные где housing_median_age < 20 и median_house_value > 70000"
      ],
      "metadata": {
        "id": "ZI2Zd6td4PwR"
      }
    },
    {
      "cell_type": "code",
      "source": [
        "df[(df['housing_median_age'] < 20) & (df['median_house_value']>70000)]"
      ],
      "metadata": {
        "id": "vhZjdd924Wk4"
      },
      "execution_count": null,
      "outputs": []
    },
    {
      "cell_type": "markdown",
      "source": [
        "Задача №61. 1. Определить какое максимальное и минимальное\n",
        "значение median_house_value"
      ],
      "metadata": {
        "id": "lRq4e-_LQ-Zq"
      }
    },
    {
      "cell_type": "code",
      "source": [
        "mhv = df['median_house_value']\n",
        "mhv.min()\n",
        "mhv.max()"
      ],
      "metadata": {
        "colab": {
          "base_uri": "https://localhost:8080/"
        },
        "id": "YJX79EQdREnr",
        "outputId": "bbd040c4-aea9-4f39-bb4a-b0378ad92363"
      },
      "execution_count": 16,
      "outputs": [
        {
          "output_type": "execute_result",
          "data": {
            "text/plain": [
              "500001.0"
            ]
          },
          "metadata": {},
          "execution_count": 16
        }
      ]
    },
    {
      "cell_type": "markdown",
      "source": [
        "2. Показать максимальное median_house_value, где\n",
        "median_income = 3.1250"
      ],
      "metadata": {
        "id": "P5S3q0dkRllL"
      }
    },
    {
      "cell_type": "code",
      "source": [
        "df[df['median_income'] == 3.1250]['median_house_value'].max()"
      ],
      "metadata": {
        "colab": {
          "base_uri": "https://localhost:8080/"
        },
        "id": "mIeEAYSMR5C5",
        "outputId": "ceab7881-d0e2-4422-cae0-5fa8d5d83135"
      },
      "execution_count": 8,
      "outputs": [
        {
          "output_type": "execute_result",
          "data": {
            "text/plain": [
              "233300.0"
            ]
          },
          "metadata": {},
          "execution_count": 8
        }
      ]
    },
    {
      "cell_type": "markdown",
      "source": [
        "3. Узнать какая максимальная population в зоне\n",
        "минимального значения median_house_value"
      ],
      "metadata": {
        "id": "2A6Ivd0mSitR"
      }
    },
    {
      "cell_type": "code",
      "source": [
        "median_min = df['median_house_value'].describe()['25%']\n",
        "df[df['median_house_value'] <= median_min]['population'].max()"
      ],
      "metadata": {
        "colab": {
          "base_uri": "https://localhost:8080/"
        },
        "id": "vkiWDaKASkti",
        "outputId": "0a60cd48-c3db-4f7a-b8a8-135b4ee4189c"
      },
      "execution_count": 15,
      "outputs": [
        {
          "output_type": "execute_result",
          "data": {
            "text/plain": [
              "7235.0"
            ]
          },
          "metadata": {},
          "execution_count": 15
        }
      ]
    }
  ]
}