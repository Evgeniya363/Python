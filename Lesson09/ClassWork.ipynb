{
  "nbformat": 4,
  "nbformat_minor": 0,
  "metadata": {
    "colab": {
      "provenance": [],
      "authorship_tag": "ABX9TyMAnshYhMuaUE/hmvQEP3eF",
      "include_colab_link": true
    },
    "kernelspec": {
      "name": "python3",
      "display_name": "Python 3"
    },
    "language_info": {
      "name": "python"
    }
  },
  "cells": [
    {
      "cell_type": "markdown",
      "metadata": {
        "id": "view-in-github",
        "colab_type": "text"
      },
      "source": [
        "<a href=\"https://colab.research.google.com/github/Evgeniya363/Python/blob/main/Lesson09/ClassWork.ipynb\" target=\"_parent\"><img src=\"https://colab.research.google.com/assets/colab-badge.svg\" alt=\"Open In Colab\"/></a>"
      ]
    },
    {
      "cell_type": "code",
      "execution_count": null,
      "metadata": {
        "id": "Cfo6oNp9BFo7"
      },
      "outputs": [],
      "source": [
        "import pandas as pd"
      ]
    },
    {
      "cell_type": "markdown",
      "source": [
        "57.1 Прочесть с помощью pandas файл california_housing_test.csv, который находится в папке\n",
        "sample_data"
      ],
      "metadata": {
        "id": "S4v3B1g4FtMS"
      }
    },
    {
      "cell_type": "code",
      "source": [
        "df = pd.read_csv('/content/sample_data/california_housing_test.csv')"
      ],
      "metadata": {
        "id": "-ILUaBq3Br5Q"
      },
      "execution_count": null,
      "outputs": []
    },
    {
      "cell_type": "code",
      "source": [
        "df"
      ],
      "metadata": {
        "id": "NqvnWRu0B8dY"
      },
      "execution_count": null,
      "outputs": []
    },
    {
      "cell_type": "code",
      "source": [
        "df.head()"
      ],
      "metadata": {
        "id": "mV9rYqykCMuZ"
      },
      "execution_count": null,
      "outputs": []
    },
    {
      "cell_type": "code",
      "source": [
        "df.head(15)"
      ],
      "metadata": {
        "id": "wZvil4maCYvV"
      },
      "execution_count": null,
      "outputs": []
    },
    {
      "cell_type": "markdown",
      "source": [
        "59.1 Проверить есть ли в файле пустые значения"
      ],
      "metadata": {
        "id": "Q9fiuKfNiMWZ"
      }
    },
    {
      "cell_type": "code",
      "source": [
        "df.isnull().sum()"
      ],
      "metadata": {
        "id": "vrctkEqmCdy5"
      },
      "execution_count": null,
      "outputs": []
    },
    {
      "cell_type": "code",
      "source": [
        "df.columns"
      ],
      "metadata": {
        "id": "iKlqB1jWCm1U"
      },
      "execution_count": null,
      "outputs": []
    },
    {
      "cell_type": "markdown",
      "source": [
        "57.2 Посмотреть сколько в нем строк и столбцов"
      ],
      "metadata": {
        "id": "b4smCMCEF-4P"
      }
    },
    {
      "cell_type": "code",
      "source": [
        "print('Строк: {}, столбцов: {}'.format(df.shape[0], df.shape[1]))"
      ],
      "metadata": {
        "id": "9HSRCHKpGFG0",
        "colab": {
          "base_uri": "https://localhost:8080/"
        },
        "outputId": "d6e39a8f-5661-4bc1-a652-5c9341d915b7"
      },
      "execution_count": null,
      "outputs": [
        {
          "output_type": "stream",
          "name": "stdout",
          "text": [
            "Строк: 3000, столбцов: 9\n"
          ]
        }
      ]
    },
    {
      "cell_type": "markdown",
      "source": [
        "57.3 Определить какой тип данных имеют столбцы"
      ],
      "metadata": {
        "id": "ou735UCBLBIH"
      }
    },
    {
      "cell_type": "code",
      "source": [
        "df.dtypes"
      ],
      "metadata": {
        "id": "_WwIMn9zLEfH"
      },
      "execution_count": null,
      "outputs": []
    },
    {
      "cell_type": "code",
      "source": [
        "total_rooms = df['total_rooms']\n",
        "total_rooms"
      ],
      "metadata": {
        "id": "FjAhbux5CsZ7"
      },
      "execution_count": null,
      "outputs": []
    },
    {
      "cell_type": "code",
      "source": [
        "print(type(df))"
      ],
      "metadata": {
        "id": "c1NosOQgDNBw"
      },
      "execution_count": null,
      "outputs": []
    },
    {
      "cell_type": "code",
      "source": [
        "df[['total_rooms','housing_median_age']]"
      ],
      "metadata": {
        "id": "w3JV75D7DUGo"
      },
      "execution_count": null,
      "outputs": []
    },
    {
      "cell_type": "code",
      "source": [
        "df[(df['housing_median_age'] < 20) & (df['housing_median_age'] > 17)]"
      ],
      "metadata": {
        "id": "B0pQHindD_MT"
      },
      "execution_count": null,
      "outputs": []
    },
    {
      "cell_type": "code",
      "source": [
        "df['population'].sum()"
      ],
      "metadata": {
        "id": "QCnnQIxoElRN"
      },
      "execution_count": null,
      "outputs": []
    },
    {
      "cell_type": "markdown",
      "source": [
        "59.2 Показать median_house_value где median_income < 2"
      ],
      "metadata": {
        "id": "JkYGt4DVxn3B"
      }
    },
    {
      "cell_type": "code",
      "source": [
        "df.loc[df['median_income'] < 2,'median_house_value']"
      ],
      "metadata": {
        "id": "XtUpUgZ8xthS"
      },
      "execution_count": null,
      "outputs": []
    },
    {
      "cell_type": "markdown",
      "source": [
        "59.3 Показать данные в первых 2 столбцах"
      ],
      "metadata": {
        "id": "bbT9Jx8W2YdA"
      }
    },
    {
      "cell_type": "code",
      "source": [
        "df.iloc [:, 0:2]"
      ],
      "metadata": {
        "id": "ho1_uqVI2ZTz"
      },
      "execution_count": null,
      "outputs": []
    },
    {
      "cell_type": "markdown",
      "source": [
        "59.4 Выбрать данные где housing_median_age < 20 и median_house_value > 70000"
      ],
      "metadata": {
        "id": "ZI2Zd6td4PwR"
      }
    },
    {
      "cell_type": "code",
      "source": [
        "df[(df['housing_median_age'] < 20) & (df['median_house_value']>70000)]"
      ],
      "metadata": {
        "id": "vhZjdd924Wk4"
      },
      "execution_count": null,
      "outputs": []
    }
  ]
}